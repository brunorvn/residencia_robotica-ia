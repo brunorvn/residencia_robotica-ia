{
 "cells": [
  {
   "cell_type": "code",
   "execution_count": 2,
   "id": "081b9e7a",
   "metadata": {},
   "outputs": [
    {
     "name": "stdout",
     "output_type": "stream",
     "text": [
      "James is 42\n"
     ]
    }
   ],
   "source": [
    "contacts = {\n",
    "    'James': 42,\n",
    "    'Amy': 24,\n",
    "    'John': 31,\n",
    "    'Amanda': 63,\n",
    "    'Bob': 18\n",
    "}\n",
    "\n",
    "search = 'James'\n",
    "if search in contacts:\n",
    "    print(f'{search} is {contacts.get(search)}')"
   ]
  },
  {
   "cell_type": "code",
   "execution_count": null,
   "id": "55a4489b",
   "metadata": {},
   "outputs": [],
   "source": []
  }
 ],
 "metadata": {
  "kernelspec": {
   "display_name": "Python 3 (ipykernel)",
   "language": "python",
   "name": "python3"
  },
  "language_info": {
   "codemirror_mode": {
    "name": "ipython",
    "version": 3
   },
   "file_extension": ".py",
   "mimetype": "text/x-python",
   "name": "python",
   "nbconvert_exporter": "python",
   "pygments_lexer": "ipython3",
   "version": "3.9.13"
  }
 },
 "nbformat": 4,
 "nbformat_minor": 5
}
